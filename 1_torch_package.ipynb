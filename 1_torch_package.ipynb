{
 "cells": [
  {
   "cell_type": "markdown",
   "metadata": {},
   "source": [
    "## Why should we use Pytorch?\n",
    " \n",
    " - It's easy to develope deep learning models\n",
    " - paradigm tensorflow - define and run vs pytorch - define by run\n",
    " - opensource\n",
    " - easy to learn\n",
    " - more intuitive than tensorflow\n",
    " - can use GPU\n",
    " - easy to install"
   ]
  },
  {
   "cell_type": "markdown",
   "metadata": {},
   "source": [
    "# Pytorch Packages\n",
    "\n",
    " - torch\n",
    " - torch.autograd\n",
    " - torch.nn\n",
    " - torch.optim\n",
    " - torch.multiprocessing\n",
    " - torch.utils\n",
    " - torch.legact"
   ]
  },
  {
   "cell_type": "code",
   "execution_count": 3,
   "metadata": {
    "ExecuteTime": {
     "end_time": "2018-10-18T05:31:25.737868Z",
     "start_time": "2018-10-18T05:31:25.733871Z"
    }
   },
   "outputs": [],
   "source": [
    "from __future__ import print_function\n",
    "import torch"
   ]
  },
  {
   "cell_type": "markdown",
   "metadata": {},
   "source": [
    "## torch package"
   ]
  },
  {
   "cell_type": "code",
   "execution_count": 4,
   "metadata": {
    "ExecuteTime": {
     "end_time": "2018-10-18T05:31:29.170776Z",
     "start_time": "2018-10-18T05:31:29.164329Z"
    }
   },
   "outputs": [
    {
     "name": "stdout",
     "output_type": "stream",
     "text": [
      "tensor([[0.0000, 0.0000, 0.0000],\n",
      "        [0.0000, 0.0000, 0.0000],\n",
      "        [0.0000, 0.0000, 0.0000],\n",
      "        [0.0000, 0.0000, 0.0000],\n",
      "        [0.0000, 0.0000, 0.0000]])\n"
     ]
    }
   ],
   "source": [
    "x = torch.empty(5,3) #원하는 차원의 빈 텐서를 생성합니다.\n",
    "print(x)"
   ]
  },
  {
   "cell_type": "code",
   "execution_count": 6,
   "metadata": {
    "ExecuteTime": {
     "end_time": "2018-10-18T05:32:30.474303Z",
     "start_time": "2018-10-18T05:32:30.467363Z"
    }
   },
   "outputs": [
    {
     "name": "stdout",
     "output_type": "stream",
     "text": [
      "tensor([[5.7858e-39, 8.4490e-39, 5.3266e-39, 7.8061e-39, 9.2755e-39, 1.0561e-38,\n",
      "         1.0653e-38],\n",
      "        [1.0561e-38, 8.4490e-39, 1.0102e-38, 9.0919e-39, 1.0102e-38, 8.9082e-39,\n",
      "         8.4489e-39],\n",
      "        [9.6429e-39, 8.4490e-39, 9.6429e-39, 9.2755e-39, 1.0286e-38, 9.0919e-39,\n",
      "         8.9082e-39],\n",
      "        [9.2755e-39, 8.4490e-39, 1.0010e-38, 8.4490e-39, 1.0837e-38, 1.0102e-38,\n",
      "         9.9184e-39],\n",
      "        [1.0194e-38, 8.4490e-39, 1.0010e-38, 1.0561e-38, 1.0469e-38, 8.9082e-39,\n",
      "         4.2246e-39]])\n",
      "torch.Size([5, 7])\n"
     ]
    }
   ],
   "source": [
    "x = torch.empty(5,7, dtype=torch.float) #이런식으로 dtype을 정해줄 수 있습니다.\n",
    "print(x)\n",
    "print(x.size())"
   ]
  },
  {
   "cell_type": "code",
   "execution_count": 9,
   "metadata": {
    "ExecuteTime": {
     "end_time": "2018-10-14T13:46:37.401656Z",
     "start_time": "2018-10-14T13:46:37.394674Z"
    }
   },
   "outputs": [
    {
     "name": "stdout",
     "output_type": "stream",
     "text": [
      "tensor([[0.6665, 0.4622, 0.2684],\n",
      "        [0.5254, 0.4430, 0.5951],\n",
      "        [0.4441, 0.1919, 0.6743],\n",
      "        [0.0569, 0.5601, 0.1863],\n",
      "        [0.7284, 0.4689, 0.8340]])\n"
     ]
    }
   ],
   "source": [
    "x = torch.rand(5,3) #0~1 사이의 연속균등분포에서 값을 뽑아 텐서를 생성합니다.\n",
    "print(x)"
   ]
  },
  {
   "cell_type": "code",
   "execution_count": 11,
   "metadata": {
    "ExecuteTime": {
     "end_time": "2018-10-14T13:52:06.692421Z",
     "start_time": "2018-10-14T13:52:06.685439Z"
    }
   },
   "outputs": [
    {
     "name": "stdout",
     "output_type": "stream",
     "text": [
      "tensor([[0, 0, 0],\n",
      "        [0, 0, 0],\n",
      "        [0, 0, 0],\n",
      "        [0, 0, 0],\n",
      "        [0, 0, 0]])\n"
     ]
    }
   ],
   "source": [
    "x = torch.zeros(5,3, dtype = torch.long) # dtype이 long이고 0으로 채워진 텐서를 생성합니다\n",
    "print(x)"
   ]
  },
  {
   "cell_type": "markdown",
   "metadata": {},
   "source": [
    "- 데이터 타입의 종류"
   ]
  },
  {
   "cell_type": "markdown",
   "metadata": {},
   "source": [
    "![dtype](https://github.com/shwksl101/Pytorch-A-to-Z/blob/master/img/dtype.PNG?raw=true)"
   ]
  },
  {
   "cell_type": "code",
   "execution_count": 8,
   "metadata": {
    "ExecuteTime": {
     "end_time": "2018-10-16T11:27:14.317867Z",
     "start_time": "2018-10-16T11:27:14.313375Z"
    }
   },
   "outputs": [
    {
     "name": "stdout",
     "output_type": "stream",
     "text": [
      "tensor([5.5000, 3.0000])\n"
     ]
    }
   ],
   "source": [
    "x = torch.tensor([5.5,3]) #원하는 텐서를 바로 생성합니다.\n",
    "print(x)"
   ]
  },
  {
   "cell_type": "code",
   "execution_count": 40,
   "metadata": {
    "ExecuteTime": {
     "end_time": "2018-10-16T11:39:17.332380Z",
     "start_time": "2018-10-16T11:39:17.325443Z"
    }
   },
   "outputs": [
    {
     "name": "stdout",
     "output_type": "stream",
     "text": [
      "tensor([[1., 1., 1.],\n",
      "        [1., 1., 1.],\n",
      "        [1., 1., 1.],\n",
      "        [1., 1., 1.],\n",
      "        [1., 1., 1.]], dtype=torch.float64)\n",
      "tensor([[ 0.5949,  0.3606, -0.0697],\n",
      "        [-0.2124, -0.9243,  1.5786],\n",
      "        [ 1.2222,  2.4934,  0.2329],\n",
      "        [-0.6524, -0.3773,  0.1990],\n",
      "        [ 0.1745, -0.0725, -1.3324]])\n"
     ]
    }
   ],
   "source": [
    "x = x.new_ones(5,3, dtype=torch.double) #5,3 차원의 새로운 텐서를 생성합니다.\n",
    "print(x)\n",
    "\n",
    "x = torch.randn_like(x,dtype=torch.float) # 같은 size에서 랜덤한 숫자로 채워진 텐서를 생성합니다.\n",
    "print(x)"
   ]
  },
  {
   "cell_type": "code",
   "execution_count": 14,
   "metadata": {
    "ExecuteTime": {
     "end_time": "2018-10-16T11:30:18.019679Z",
     "start_time": "2018-10-16T11:30:18.015715Z"
    }
   },
   "outputs": [
    {
     "name": "stdout",
     "output_type": "stream",
     "text": [
      "torch.Size([5, 3])\n"
     ]
    }
   ],
   "source": [
    "print(x.size()) # 행렬의 크기를 구합니다."
   ]
  },
  {
   "cell_type": "markdown",
   "metadata": {},
   "source": [
    "### Operations(연산)"
   ]
  },
  {
   "cell_type": "code",
   "execution_count": 27,
   "metadata": {
    "ExecuteTime": {
     "end_time": "2018-10-16T11:33:39.214078Z",
     "start_time": "2018-10-16T11:33:39.206140Z"
    }
   },
   "outputs": [
    {
     "name": "stdout",
     "output_type": "stream",
     "text": [
      "tensor([[0.0819, 0.4911, 0.4033],\n",
      "        [0.3859, 0.8813, 0.8811],\n",
      "        [0.7242, 0.5033, 0.8249],\n",
      "        [0.2634, 0.3112, 0.5948],\n",
      "        [0.1092, 0.6213, 0.7350]])\n"
     ]
    }
   ],
   "source": [
    "torch.manual_seed(777) # 랜덤값 고정을 위해 사용되는 함수입니다.\n",
    "y = torch.rand(5,3) # rand는 0~1사이의 값을 생성합니다. (uniform distribution) \n",
    "print(x+y)"
   ]
  },
  {
   "cell_type": "code",
   "execution_count": 29,
   "metadata": {
    "ExecuteTime": {
     "end_time": "2018-10-16T11:35:47.003899Z",
     "start_time": "2018-10-16T11:35:46.998408Z"
    }
   },
   "outputs": [
    {
     "name": "stdout",
     "output_type": "stream",
     "text": [
      "tensor([[ 0.1662,  1.7615,  0.4850],\n",
      "        [-1.7407,  0.7955, -0.0815],\n",
      "        [ 0.9485, -0.9761,  1.0955],\n",
      "        [-0.6268,  0.1395,  0.3799],\n",
      "        [ 1.0049,  0.2290, -0.0202]])\n"
     ]
    }
   ],
   "source": [
    "print(torch.add(x,y)) #add 안의 텐서 값들을 더해줍니다."
   ]
  },
  {
   "cell_type": "code",
   "execution_count": 41,
   "metadata": {
    "ExecuteTime": {
     "end_time": "2018-10-16T11:39:31.249567Z",
     "start_time": "2018-10-16T11:39:31.242605Z"
    },
    "scrolled": true
   },
   "outputs": [
    {
     "name": "stdout",
     "output_type": "stream",
     "text": [
      "tensor([[ 0.9041,  0.6849,  0.9236],\n",
      "        [ 0.0952, -0.7023,  2.2757],\n",
      "        [ 1.6198,  2.6429,  0.6611],\n",
      "        [-0.0710, -0.0013,  1.1837],\n",
      "        [ 0.8743,  0.2068, -0.7936]])\n"
     ]
    }
   ],
   "source": [
    "result = torch.empty(5,3)\n",
    "torch.add(x,y,out=result) #out option은 결과로 받을 텐서를 지정합니다.\n",
    "print(result)"
   ]
  },
  {
   "cell_type": "code",
   "execution_count": 43,
   "metadata": {
    "ExecuteTime": {
     "end_time": "2018-10-16T11:41:37.076027Z",
     "start_time": "2018-10-16T11:41:37.068067Z"
    }
   },
   "outputs": [
    {
     "data": {
      "text/plain": [
       "tensor([[[0.6673, 0.6532, 0.8410],\n",
       "         [0.9674, 1.7119, 0.4976],\n",
       "         [0.9666, 1.5755, 0.9870],\n",
       "         [0.8471, 0.3932, 1.5169],\n",
       "         [0.2085, 1.1244, 1.7623]]])"
      ]
     },
     "execution_count": 43,
     "metadata": {},
     "output_type": "execute_result"
    }
   ],
   "source": [
    "x = torch.rand(1,5,3)\n",
    "y = torch.rand(5,3)\n",
    "torch.add(x,y) #차원이 다르더라도 안쪽 차원만 같으면 연산이 가능합니다."
   ]
  },
  {
   "cell_type": "code",
   "execution_count": 45,
   "metadata": {
    "ExecuteTime": {
     "end_time": "2018-10-16T11:47:51.415692Z",
     "start_time": "2018-10-16T11:47:51.411729Z"
    }
   },
   "outputs": [
    {
     "name": "stdout",
     "output_type": "stream",
     "text": [
      "tensor([[0.6340, 0.9185, 0.7175],\n",
      "        [0.4609, 1.1804, 0.1689],\n",
      "        [0.5956, 0.6734, 1.1183],\n",
      "        [1.4676, 0.5494, 0.9229],\n",
      "        [0.4351, 1.3508, 1.1279]])\n"
     ]
    }
   ],
   "source": [
    "x = torch.rand(5,3)\n",
    "y.add_(x) # torch.add 말고 add_의 경우에는 이러한 연산 기능이 지원되지 않습니다. 따라서 먼저 x를 같은 차원으로 바꿔줍니다.\n",
    "print(y)"
   ]
  },
  {
   "cell_type": "code",
   "execution_count": 47,
   "metadata": {
    "ExecuteTime": {
     "end_time": "2018-10-16T11:48:25.558579Z",
     "start_time": "2018-10-16T11:48:25.554579Z"
    }
   },
   "outputs": [
    {
     "name": "stdout",
     "output_type": "stream",
     "text": [
      "tensor([[0.5525, 0.3936, 0.5418],\n",
      "        [0.0180, 0.2786, 0.0924],\n",
      "        [0.2323, 0.0372, 0.9420],\n",
      "        [0.6228, 0.3336, 0.1392],\n",
      "        [0.3534, 0.4941, 0.3092]])\n",
      "tensor([0.3936, 0.2786, 0.0372, 0.3336, 0.4941])\n"
     ]
    }
   ],
   "source": [
    "print(x)\n",
    "print(x[:,1]) #x 텐서의 2열을 불러옵니다. numpy 연산이 지원됩니다."
   ]
  },
  {
   "cell_type": "code",
   "execution_count": 53,
   "metadata": {
    "ExecuteTime": {
     "end_time": "2018-10-16T11:51:42.774580Z",
     "start_time": "2018-10-16T11:51:42.767140Z"
    }
   },
   "outputs": [
    {
     "name": "stdout",
     "output_type": "stream",
     "text": [
      "torch.Size([4, 4])\n",
      "torch.Size([16]) tensor([-0.1907,  1.4426,  0.8507,  1.6509, -1.6703, -0.6967,  0.6388, -0.1706,\n",
      "        -0.4393,  3.7354,  0.3510,  0.9974, -0.0576, -0.6605, -1.7391,  0.5670])\n",
      "torch.Size([2, 8]) tensor([[-0.1907,  1.4426,  0.8507,  1.6509, -1.6703, -0.6967,  0.6388, -0.1706],\n",
      "        [-0.4393,  3.7354,  0.3510,  0.9974, -0.0576, -0.6605, -1.7391,  0.5670]])\n"
     ]
    }
   ],
   "source": [
    "x = torch.randn(4,4) #randn의 경우 평균은 0, 표준편차는 1인 정규분포에서 값을 가져옵니다.\n",
    "y = x.view(16)\n",
    "z = x.view(-1,8) # -1의 경우 다른 차원들로 유추합니다. 이 경우에는 2로 유추합니다.\n",
    "print(x.size())\n",
    "print(y.size(),y)\n",
    "print(z.size(),z)"
   ]
  },
  {
   "cell_type": "code",
   "execution_count": 57,
   "metadata": {
    "ExecuteTime": {
     "end_time": "2018-10-16T11:54:28.425390Z",
     "start_time": "2018-10-16T11:54:28.417952Z"
    }
   },
   "outputs": [
    {
     "name": "stdout",
     "output_type": "stream",
     "text": [
      "tensor([1.0873])\n",
      "1.0872668027877808\n"
     ]
    }
   ],
   "source": [
    "x = torch.randn(1)\n",
    "print(x)\n",
    "print(x.item())"
   ]
  },
  {
   "cell_type": "markdown",
   "metadata": {},
   "source": [
    "- 더 많은 연산은 다음의 링크에서 참고하세요 https://pytorch.org/docs/stable/torch.html"
   ]
  },
  {
   "cell_type": "markdown",
   "metadata": {},
   "source": [
    "## tensor to numpy (텐서를 넘파이로 변환하기)"
   ]
  },
  {
   "cell_type": "code",
   "execution_count": 60,
   "metadata": {
    "ExecuteTime": {
     "end_time": "2018-10-16T12:03:49.835180Z",
     "start_time": "2018-10-16T12:03:49.830247Z"
    }
   },
   "outputs": [
    {
     "name": "stdout",
     "output_type": "stream",
     "text": [
      "tensor([1., 1., 1., 1., 1.])\n"
     ]
    }
   ],
   "source": [
    "a = torch.ones(5) # 1로 채워진 텐서를 생성합니다.\n",
    "print(a)"
   ]
  },
  {
   "cell_type": "code",
   "execution_count": 61,
   "metadata": {
    "ExecuteTime": {
     "end_time": "2018-10-16T12:04:03.331822Z",
     "start_time": "2018-10-16T12:04:03.320915Z"
    }
   },
   "outputs": [
    {
     "name": "stdout",
     "output_type": "stream",
     "text": [
      "[1. 1. 1. 1. 1.]\n"
     ]
    }
   ],
   "source": [
    "b = a.numpy()\n",
    "print(b)"
   ]
  },
  {
   "cell_type": "code",
   "execution_count": 62,
   "metadata": {
    "ExecuteTime": {
     "end_time": "2018-10-16T12:04:17.311315Z",
     "start_time": "2018-10-16T12:04:17.299437Z"
    }
   },
   "outputs": [
    {
     "name": "stdout",
     "output_type": "stream",
     "text": [
      "tensor([2., 2., 2., 2., 2.])\n",
      "[2. 2. 2. 2. 2.]\n"
     ]
    }
   ],
   "source": [
    "a.add_(1)\n",
    "print(a)\n",
    "print(b)"
   ]
  },
  {
   "cell_type": "markdown",
   "metadata": {},
   "source": [
    "## Numpy to tensor (넘파이 배열을 텐서로 변환하기)"
   ]
  },
  {
   "cell_type": "code",
   "execution_count": 63,
   "metadata": {
    "ExecuteTime": {
     "end_time": "2018-10-16T12:05:14.994111Z",
     "start_time": "2018-10-16T12:05:14.990154Z"
    }
   },
   "outputs": [],
   "source": [
    "import numpy as np"
   ]
  },
  {
   "cell_type": "code",
   "execution_count": 65,
   "metadata": {
    "ExecuteTime": {
     "end_time": "2018-10-16T12:05:53.759506Z",
     "start_time": "2018-10-16T12:05:53.752563Z"
    }
   },
   "outputs": [
    {
     "name": "stdout",
     "output_type": "stream",
     "text": [
      "[2. 2. 2. 2. 2.]\n",
      "tensor([2., 2., 2., 2., 2.], dtype=torch.float64)\n"
     ]
    }
   ],
   "source": [
    "a = np.ones(5) #a와 b는 연동됩니다.\n",
    "b = torch.from_numpy(a)\n",
    "np.add(a,1,out=a)\n",
    "print(a)\n",
    "print(b) #chartensor를 제외한 모든 tensor는 numpy로의 변환을 지원합니다."
   ]
  },
  {
   "cell_type": "code",
   "execution_count": 67,
   "metadata": {
    "ExecuteTime": {
     "end_time": "2018-10-16T12:09:27.092831Z",
     "start_time": "2018-10-16T12:09:27.086847Z"
    }
   },
   "outputs": [],
   "source": [
    "if torch.cuda.is_available():\n",
    "    device = torch.device(\"cuda\")\n",
    "    y = torch.ones_like(x,device=device)\n",
    "    x = x.to(device)\n",
    "    z = x+y\n",
    "    print(z)\n",
    "    print(z.to(\"cpu\",torch.double)) #.to 기능을 tensor를 GPU로 연산할 수 있습니다"
   ]
  },
  {
   "cell_type": "code",
   "execution_count": null,
   "metadata": {},
   "outputs": [],
   "source": []
  }
 ],
 "metadata": {
  "kernelspec": {
   "display_name": "Python 3",
   "language": "python",
   "name": "python3"
  },
  "language_info": {
   "codemirror_mode": {
    "name": "ipython",
    "version": 3
   },
   "file_extension": ".py",
   "mimetype": "text/x-python",
   "name": "python",
   "nbconvert_exporter": "python",
   "pygments_lexer": "ipython3",
   "version": "3.6.5"
  },
  "latex_envs": {
   "LaTeX_envs_menu_present": true,
   "autoclose": false,
   "autocomplete": true,
   "bibliofile": "biblio.bib",
   "cite_by": "apalike",
   "current_citInitial": 1,
   "eqLabelWithNumbers": true,
   "eqNumInitial": 1,
   "hotkeys": {
    "equation": "Ctrl-E",
    "itemize": "Ctrl-I"
   },
   "labels_anchors": false,
   "latex_user_defs": false,
   "report_style_numbering": false,
   "user_envs_cfg": false
  },
  "toc": {
   "base_numbering": 1,
   "nav_menu": {},
   "number_sections": true,
   "sideBar": true,
   "skip_h1_title": false,
   "title_cell": "Table of Contents",
   "title_sidebar": "Contents",
   "toc_cell": false,
   "toc_position": {},
   "toc_section_display": true,
   "toc_window_display": false
  },
  "varInspector": {
   "cols": {
    "lenName": 16,
    "lenType": 16,
    "lenVar": 40
   },
   "kernels_config": {
    "python": {
     "delete_cmd_postfix": "",
     "delete_cmd_prefix": "del ",
     "library": "var_list.py",
     "varRefreshCmd": "print(var_dic_list())"
    },
    "r": {
     "delete_cmd_postfix": ") ",
     "delete_cmd_prefix": "rm(",
     "library": "var_list.r",
     "varRefreshCmd": "cat(var_dic_list()) "
    }
   },
   "types_to_exclude": [
    "module",
    "function",
    "builtin_function_or_method",
    "instance",
    "_Feature"
   ],
   "window_display": false
  }
 },
 "nbformat": 4,
 "nbformat_minor": 2
}
