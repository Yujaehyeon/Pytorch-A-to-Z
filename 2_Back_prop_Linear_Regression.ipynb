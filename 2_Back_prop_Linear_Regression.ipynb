{
 "cells": [
  {
   "cell_type": "markdown",
   "metadata": {},
   "source": [
    "# Week3\n",
    "\n",
    "[참고 Link]\n",
    "- <a href=\"https://datascienceschool.net/view-notebook/4642b9f187784444b8f3a8309c583007\"> 데이터 사이언스 스쿨 - 최적화 기초</a>\n",
    "\n",
    "- <a href=\"http://shuuki4.github.io/deep%20learning/2016/05/20/Gradient-Descent-Algorithm-Overview.html\"> BEOMSU KIM'S BLOG - Gradient Descent Optimization Algorithms 정리</a>\n",
    "\n",
    "- <a href=\"http://solarisailab.com/archives/2237\"> 솔라리스의 인공지능 연구실 - Neural Networks의 학습속도 저하(Slowdown)를 막는 Cross-Entropy Cost Function</a>\n",
    "\n",
    "- <a href=\"http://sanghyukchun.github.io/58/\"> SanghyukChun's Blog - Machine Learning 스터디 (2) Probability Theory</a>\n",
    "\n",
    "- <a href=\"http://jaejunyoo.blogspot.com/2018/02/minimizing-negative-log-likelihood-in-kor-3.html\"> Jaejun Yoo's Playground - Minimizing the Negative Log-Likelihood, in Korean (3)</a>\n",
    "\n",
    "- <a href=\"https://taeoh-kim.github.io/blog/cross-entropy%EC%9D%98-%EC%A0%95%ED%99%95%ED%95%9C-%ED%99%95%EB%A5%A0%EC%A0%81-%EC%9D%98%EB%AF%B8/\"> Taeoh Kim's Blog - Cross Entropy의 정확한 확률적 의미</a>\n",
    "\n",
    "- <a href=\"http://funmv2013.blogspot.com/2017/01/cross-entropy.html\"> funMV - 분류 오차에 Cross entropy를 사용하는 이유</a>\n"
   ]
  },
  {
   "cell_type": "markdown",
   "metadata": {},
   "source": [
    "## Maximum Likelihood Estimation (MLE)\n",
    "\n",
    "- random variable의 parameter를 estimate하는 방법 중 하나\n",
    "- 오직 주어진 Observation, 혹은 데이터들 만을 토대로 parameter estimation을 하는 방법이다. \n",
    "- 우리는 현재 우리가 갖고 있는 데이터가 가장 나옴직한 parameter를 고르고 싶을 것이고, 바로 이게 maximum likelihood estimate 입니다.<br><br>\n",
    "### $$ \\underset{\\theta}{\\arg\\max}\\ P(y\\,\\vert\\, x; \\theta) $$\n",
    "\n",
    "다만 확률 값은 [0,1] 안에서 결정되기 때문에 확률 값들을 여러 차례 곱하면 값이 매우 빠르게 작아집니다.<br>\n",
    "이런 현상을 방지하기 위해 log-likelihood를 사용하게 되는 것입니다. 또한 log의 성질 덕에 곱하기 연산이 더하기로 바뀌게 됩니다.\n",
    "\n",
    "보통 negative log likelihood(NLL) function 을 **목적함수**로 놓고 최소화 시키면서 최적의 parameter 를 찾는 것이 딥러닝 학습의 시작단계!\n",
    "\n",
    "### $$ \\underset{\\theta}{\\arg\\min}\\ -logP(y\\,\\vert\\, x; \\theta) $$"
   ]
  },
  {
   "cell_type": "markdown",
   "metadata": {},
   "source": [
    "## Objective Function"
   ]
  },
  {
   "cell_type": "markdown",
   "metadata": {},
   "source": [
    "최적화 문제는 함수 $f$의 값을 최대화 혹은 최소화하는 변수 $x$의 값 $x^{\\ast}$를 찾는 것이다. 수식으로는 다음처럼 쓴다.\n",
    "\n",
    "$$ x^{\\ast} = \\arg \\max_x f(x) \\;\\;(\\text{최대화의 경우}) $$\n",
    "\n",
    "$$ x^{\\ast} = \\arg \\min_x f(x) \\;\\;(\\text{최소화의 경우}) $$\n",
    "\n",
    "이 값 $x^{\\ast}$를 최적화 문제의 해(solution)라고 한다.\n",
    "\n",
    "최대화 문제는 $f(x)$ 를 $-f(x)$ 로 바꾸면 풀 수 있으므로 보통 최소화의 경우만 고려한다.\n",
    "\n",
    "이 때 최소화하고자 하는 함수 $f(x)$를 **목적함수(objective function)**, **비용함수(cost function)** 또는 **손실함수(loss function)** 등으로 부른다. 기호로는 각각 $J, C, L$로 표기하는 경우가 많다.\n"
   ]
  },
  {
   "cell_type": "markdown",
   "metadata": {},
   "source": [
    "## Weight(parameter) Update\n",
    "\n",
    "<img src=\"https://drive.google.com/uc?id=1y7KfiZ82K7A5U0Ug2T7eyqVblkKWFTsF\">"
   ]
  },
  {
   "cell_type": "markdown",
   "metadata": {},
   "source": [
    "## Cost Function\n",
    "### 1. Mean Squared Error - Regression\n",
    "\n",
    "<img src=\"http://solarisailab.com/wp-content/ql-cache/quicklatex.com-9b581a798d41c0cfec39bac20ee6fb50_l3.png\">\n",
    "\n",
    "이를 Neural Networks의 모델에 적용해서 표현하면 Neural Networks에서 output unit에서의 Cost function-J(W,b;x,y)-은 모델의 예측값(Prediction)-$\\sigma(z)$-과 실제 타겟값(True target value)-$y$-과의 차이를 제곱한 값으로 정의된다. (참고 : $z=Wx+b$, 계산의 편의성을 위해서 $\\frac{1}{2}$을 식에 추가함)\n",
    "\n",
    "<img src=\"http://solarisailab.com/wp-content/ql-cache/quicklatex.com-a39c609db4ee22c8d2c903662bb7eb0b_l3.png\">\n",
    "\n",
    "Neural Networks를 학습시키기 위해서는 Cost function-J(W,b;x,y)-의 미분값(derivative)를 계산해서 Neural Networks의 파라미터 W, b를 업데이트해야한다.MSE Cost function을 이용했을 경우 Weight와 Bias의 미분값(Derivative)를 계산하면 아래와 같다.\n",
    "(참고 : $\\sigma$ 는 activation function )\n",
    "\n",
    "<img src=\"https://drive.google.com/uc?id=1FhQqiE5zevi_1CWvTSK4VKdj8tzUkztN\" width=\"400px\">"
   ]
  },
  {
   "cell_type": "markdown",
   "metadata": {},
   "source": [
    "### 2. Average Cross Entropy Loss - Classification\n",
    "\n",
    "<img src=\"http://solarisailab.com/wp-content/ql-cache/quicklatex.com-49fd6c934151da1c89e8caf78cff9a82_l3.png\">\n",
    "\n",
    "Cross-Entropy Cost Function을 이용했을 때 Neural Networks의 파라미터인 Weight의 미분값(Derivative)를 계산하면 아래와 같다.<br><br>\n",
    "\n",
    "<img src=\"http://solarisailab.com/wp-content/ql-cache/quicklatex.com-c7343077fef6b09b1dbdc5238dcfa349_l3.png\"><br>\n",
    "<img src=\"https://drive.google.com/uc?id=14-jR7eoynt5RajadL-l8MThfVGZRJEZH\"><br>\n",
    "sigmoid function은 $\\sigma(z)=\\frac{1}{(1+e^{-z})}$로 정의되고 이를 미분하면 $\\sigma'(z)=\\sigma(z)(1-\\sigma(z))$이다. <br>\n",
    "따라서 이를 이용해 위 식을 다시한번 정리하면 최종적으로 Cross-Entropy를 이용한 Cost Function-J(W,b;x,y)-의 Weight와 bias의 미분값(Derivative)은 <br>\n",
    "아래와 같이 계산된다.\n",
    "\n",
    "<img src=\"http://solarisailab.com/wp-content/ql-cache/quicklatex.com-200646d09711afeb4bdde2504dd81d74_l3.png\"><br>\n",
    "<img src=\"http://solarisailab.com/wp-content/ql-cache/quicklatex.com-a91b5960b3fee32a6d282dc3e453ee9f_l3.png\"><br>\n",
    "\n",
    "위 식에서 파라미터 Weight와 Bias의 미분값(Derivative)은 예측값과 실제값의 차이-$(\\sigma(z)-y)$-에 비례한다. <br>\n",
    "따라서 오차가 더큰 인풋값에 대해서는 더많이 업데이트하고, 오차가 더 작은 인풋값에 대해서는 더적게 업데이트하는 결과를 얻을 수 있다.\n",
    "\n",
    "또한, 미분값에 $\\sigma'(z)$가 포함되어 있지 않기 때문에 MSE Function을 이용해서 Cost Function을 정의했을때 발생하는 sigmoid function의 특성때문에 발생하는 학습저하(slowdown) 문제도 발생하지 않는다."
   ]
  },
  {
   "cell_type": "markdown",
   "metadata": {},
   "source": [
    "## Back Propagation\n",
    "\n",
    "<img src=\"https://drive.google.com/uc?id=1wOCO2RDqgIrwfEPRRbRJ-MEGmQ36Cmgs\">"
   ]
  },
  {
   "cell_type": "markdown",
   "metadata": {},
   "source": [
    "## Practice - Backpropagation"
   ]
  },
  {
   "cell_type": "code",
   "execution_count": 1,
   "metadata": {
    "ExecuteTime": {
     "end_time": "2018-10-02T11:28:30.800520Z",
     "start_time": "2018-10-02T11:28:29.387558Z"
    }
   },
   "outputs": [],
   "source": [
    "import torch\n",
    "import torch.nn as nn\n",
    "from torch.autograd import Variable\n",
    "import torch.nn.functional as F\n",
    "import torch.optim as optim"
   ]
  },
  {
   "cell_type": "code",
   "execution_count": 2,
   "metadata": {
    "ExecuteTime": {
     "end_time": "2018-10-02T11:28:32.449511Z",
     "start_time": "2018-10-02T11:28:32.445490Z"
    }
   },
   "outputs": [],
   "source": [
    "x = Variable(torch.Tensor([-2.0]),  requires_grad=True)\n",
    "y = Variable(torch.Tensor([5.0]),  requires_grad=True)\n",
    "z = Variable(torch.Tensor([-4.0]),  requires_grad=True)\n",
    "\n",
    "q =  x+y\n",
    "f = q*z"
   ]
  },
  {
   "cell_type": "code",
   "execution_count": 3,
   "metadata": {
    "ExecuteTime": {
     "end_time": "2018-10-02T11:28:33.292929Z",
     "start_time": "2018-10-02T11:28:33.286946Z"
    }
   },
   "outputs": [
    {
     "name": "stdout",
     "output_type": "stream",
     "text": [
      "tensor([-2.], requires_grad=True)\n",
      "tensor([5.], requires_grad=True)\n",
      "tensor([-4.], requires_grad=True)\n"
     ]
    }
   ],
   "source": [
    "print(x)\n",
    "print(y)\n",
    "print(z)"
   ]
  },
  {
   "cell_type": "code",
   "execution_count": 4,
   "metadata": {
    "ExecuteTime": {
     "end_time": "2018-10-02T11:29:15.467013Z",
     "start_time": "2018-10-02T11:29:15.463049Z"
    }
   },
   "outputs": [
    {
     "name": "stdout",
     "output_type": "stream",
     "text": [
      "tensor([3.], grad_fn=<ThAddBackward>)\n",
      "tensor([-12.], grad_fn=<ThMulBackward>)\n"
     ]
    }
   ],
   "source": [
    "print(q)\n",
    "print(f)"
   ]
  },
  {
   "cell_type": "code",
   "execution_count": 5,
   "metadata": {
    "ExecuteTime": {
     "end_time": "2018-10-02T11:29:51.461059Z",
     "start_time": "2018-10-02T11:29:51.456073Z"
    }
   },
   "outputs": [],
   "source": [
    "f.backward(retain_graph=True) #class로 하면 저 옵션 안넣어도 됨"
   ]
  },
  {
   "cell_type": "code",
   "execution_count": 6,
   "metadata": {
    "ExecuteTime": {
     "end_time": "2018-10-02T11:30:11.013032Z",
     "start_time": "2018-10-02T11:30:11.009009Z"
    },
    "scrolled": true
   },
   "outputs": [
    {
     "name": "stdout",
     "output_type": "stream",
     "text": [
      "<ThMulBackward object at 0x0000021DEB150A90>\n"
     ]
    }
   ],
   "source": [
    "print(f.grad_fn)"
   ]
  },
  {
   "cell_type": "code",
   "execution_count": 7,
   "metadata": {
    "ExecuteTime": {
     "end_time": "2018-10-02T11:30:13.881313Z",
     "start_time": "2018-10-02T11:30:13.877292Z"
    }
   },
   "outputs": [
    {
     "name": "stdout",
     "output_type": "stream",
     "text": [
      "<ThAddBackward object at 0x0000021DEB1502E8>\n"
     ]
    }
   ],
   "source": [
    "print(q.grad_fn)"
   ]
  },
  {
   "cell_type": "code",
   "execution_count": 8,
   "metadata": {
    "ExecuteTime": {
     "end_time": "2018-10-02T11:30:48.380963Z",
     "start_time": "2018-10-02T11:30:48.374950Z"
    }
   },
   "outputs": [
    {
     "name": "stdout",
     "output_type": "stream",
     "text": [
      "tensor([-4.])\n",
      "tensor([-4.])\n",
      "tensor([3.])\n"
     ]
    }
   ],
   "source": [
    "print(x.grad)\n",
    "print(y.grad)\n",
    "print(z.grad)"
   ]
  },
  {
   "cell_type": "markdown",
   "metadata": {},
   "source": [
    "## TODO - Backpropagation\n",
    "\n",
    "<img src=\"https://drive.google.com/uc?id=1Jvlk56B36HPyihMRACOxUFm7FwUTVL3v\">"
   ]
  },
  {
   "cell_type": "code",
   "execution_count": 13,
   "metadata": {
    "ExecuteTime": {
     "end_time": "2018-10-02T11:37:58.561501Z",
     "start_time": "2018-10-02T11:37:58.553524Z"
    }
   },
   "outputs": [
    {
     "name": "stdout",
     "output_type": "stream",
     "text": [
      "tensor([0.7311], grad_fn=<SigmoidBackward>)\n"
     ]
    }
   ],
   "source": [
    "# YOUR CODE HERE\n",
    "w0 = Variable(torch.Tensor([2.0]),  requires_grad=True)\n",
    "x0 = Variable(torch.Tensor([-1.0]),  requires_grad=True)\n",
    "w1 = Variable(torch.Tensor([-3.0]),  requires_grad=True)\n",
    "x1 = Variable(torch.Tensor([-2.0]),  requires_grad=True)\n",
    "w2 = Variable(torch.Tensor([-3.0]),  requires_grad=True)\n",
    "\n",
    "q1 =  w0*x0\n",
    "q2 = w1*x1\n",
    "f1 = a+b\n",
    "s = f1+w2\n",
    "\n",
    "out = torch.sigmoid(s)\n",
    "print(out)\n",
    "out.backward(retain_graph=True)"
   ]
  },
  {
   "cell_type": "code",
   "execution_count": 11,
   "metadata": {
    "ExecuteTime": {
     "end_time": "2018-10-02T11:34:26.169538Z",
     "start_time": "2018-10-02T11:34:26.159576Z"
    }
   },
   "outputs": [
    {
     "name": "stdout",
     "output_type": "stream",
     "text": [
      "tensor([-0.1966])\n",
      "tensor([0.3932])\n",
      "tensor([-0.3932])\n",
      "tensor([-0.5898])\n",
      "tensor([0.1966])\n"
     ]
    }
   ],
   "source": [
    "print(w0.grad)\n",
    "print(x0.grad)\n",
    "print(w1.grad)\n",
    "print(x1.grad)\n",
    "print(w2.grad)"
   ]
  },
  {
   "cell_type": "markdown",
   "metadata": {},
   "source": [
    "## Practice - Weight Update"
   ]
  },
  {
   "cell_type": "code",
   "execution_count": 16,
   "metadata": {
    "ExecuteTime": {
     "end_time": "2018-10-02T11:47:07.530219Z",
     "start_time": "2018-10-02T11:47:07.511277Z"
    }
   },
   "outputs": [
    {
     "name": "stdout",
     "output_type": "stream",
     "text": [
      "=====================\n",
      "First Prediction\n",
      "tensor([0.7311], grad_fn=<SigmoidBackward>)\n",
      "=====================\n",
      "Original Weight\n",
      "tensor([2.], requires_grad=True)\n",
      "tensor([-3.], requires_grad=True)\n",
      "tensor([-3.], requires_grad=True)\n",
      "=====================\n",
      "Gradient\n",
      "tensor([0.1058])\n",
      "tensor([0.2115])\n",
      "tensor([-0.1058])\n",
      "=====================\n",
      "Updated Weight\n",
      "tensor([1.9894], requires_grad=True)\n",
      "tensor([-3.0212], requires_grad=True)\n",
      "tensor([-2.9894], requires_grad=True)\n",
      "=====================\n",
      "Second Prediction\n",
      "tensor([0.7433], grad_fn=<SigmoidBackward>)\n"
     ]
    },
    {
     "name": "stderr",
     "output_type": "stream",
     "text": [
      "C:\\Users\\test\\Anaconda3\\lib\\site-packages\\torch\\nn\\functional.py:1006: UserWarning: nn.functional.sigmoid is deprecated. Use torch.sigmoid instead.\n",
      "  warnings.warn(\"nn.functional.sigmoid is deprecated. Use torch.sigmoid instead.\")\n"
     ]
    }
   ],
   "source": [
    "w0 = Variable(torch.Tensor([2.0]), requires_grad=True)\n",
    "x0 = Variable(torch.Tensor([-1.0]), requires_grad=True)\n",
    "w1 = Variable(torch.Tensor([-3.0]), requires_grad=True)\n",
    "x1 = Variable(torch.Tensor([-2.0]), requires_grad=True)\n",
    "w2 = Variable(torch.Tensor([-3.0]), requires_grad=True)\n",
    "\n",
    "q1 = w0*x0\n",
    "q2 = w1*x1\n",
    "\n",
    "r = q1 + q2\n",
    "s = r + w2\n",
    "\n",
    "out = F.sigmoid(s)\n",
    "print(\"=====================\")\n",
    "print(\"First Prediction\")\n",
    "print(out)\n",
    "\n",
    "target = torch.Tensor([1.0])\n",
    "optimizer = optim.SGD([w0, w1, w2], lr=0.1)\n",
    "criterion = nn.MSELoss()\n",
    "print(\"=====================\")\n",
    "print(\"Original Weight\")\n",
    "print(w0)\n",
    "print(w1)\n",
    "print(w2)\n",
    "\n",
    "\n",
    "loss = criterion(out, target)\n",
    "loss.backward()\n",
    "\n",
    "print(\"=====================\")\n",
    "print(\"Gradient\")\n",
    "\n",
    "print(w0.grad)\n",
    "print(w1.grad)\n",
    "print(w2.grad)\n",
    "\n",
    "optimizer.step() #weight update !\n",
    "\n",
    "print(\"=====================\")\n",
    "print(\"Updated Weight\") # w_new = w_ori - (learning_rate * gradient)\n",
    "\n",
    "print(w0) # w0_new = w0(=2.0) - (0.1 * 0.1058) = 1.9894\n",
    "print(w1) # w1_new = w1(=-3.0) - (0.1 * 0.2115) = -3.0212\n",
    "print(w2) # w2_new = w2(=-3.0) - (0.1 * 0.1058) = -2.9894\n",
    "\n",
    "q1 = w0*x0\n",
    "q2 = w1*x1\n",
    "\n",
    "r = q1 + q2\n",
    "s = r + w2\n",
    "\n",
    "out = torch.sigmoid(s)\n",
    "print(\"=====================\")\n",
    "print(\"Second Prediction\")\n",
    "\n",
    "print(out)"
   ]
  },
  {
   "cell_type": "markdown",
   "metadata": {},
   "source": [
    "## Practice - Simple Linear Regression"
   ]
  },
  {
   "cell_type": "code",
   "execution_count": 22,
   "metadata": {
    "ExecuteTime": {
     "end_time": "2018-10-02T11:51:51.728641Z",
     "start_time": "2018-10-02T11:51:51.723687Z"
    }
   },
   "outputs": [],
   "source": [
    "class SimpleLinearRegression(nn.Module):\n",
    "    def __init__(self):\n",
    "        super(SimpleLinearRegression, self).__init__() # what is super ?\n",
    "        self.Layer = nn.Linear(1, 1)\n",
    "\n",
    "    def forward(self, inputs):\n",
    "        x = self.Layer(inputs)\n",
    "        return x\n",
    "    \n",
    "    def predict(self, test_input):\n",
    "        x = self.Layer(test_input)\n",
    "        return x\n",
    "\n",
    "model = SimpleLinearRegression()\n",
    "criterion = nn.MSELoss()\n",
    "\n",
    "# momentum 추가 속도 및 정확도 비교! - 링크 참고\n",
    "\n",
    "# optimizer = optim.SGD(model.parameters(), lr=0.01)\n",
    "optimizer = optim.SGD(model.parameters(), lr=0.01, momentum = 0.9)"
   ]
  },
  {
   "cell_type": "code",
   "execution_count": 24,
   "metadata": {
    "ExecuteTime": {
     "end_time": "2018-10-02T11:53:18.509700Z",
     "start_time": "2018-10-02T11:53:18.296540Z"
    }
   },
   "outputs": [
    {
     "name": "stdout",
     "output_type": "stream",
     "text": [
      "tensor(7.5791e-14, grad_fn=<MseLossBackward>)\n",
      "tensor(1.8948e-14, grad_fn=<MseLossBackward>)\n",
      "tensor(1.8948e-14, grad_fn=<MseLossBackward>)\n",
      "tensor(1.8948e-14, grad_fn=<MseLossBackward>)\n",
      "tensor(7.5791e-14, grad_fn=<MseLossBackward>)\n"
     ]
    }
   ],
   "source": [
    "for i in range(1000):\n",
    "    inputs = torch.Tensor([1.0, 2.0, 3.0]).unsqueeze(1)\n",
    "    targets = torch.Tensor([2.1, 4.1, 6.1]).unsqueeze(1) # y = 2x + 0.1\n",
    "                          \n",
    "    model.zero_grad()\n",
    "    y_pred = model(inputs)\n",
    "    loss = criterion(y_pred, targets)\n",
    "    loss.backward()\n",
    "    optimizer.step()\n",
    "    \n",
    "    if i % 200 == 0:\n",
    "        print(loss)"
   ]
  },
  {
   "cell_type": "code",
   "execution_count": 25,
   "metadata": {
    "ExecuteTime": {
     "end_time": "2018-10-02T11:53:22.419979Z",
     "start_time": "2018-10-02T11:53:22.414992Z"
    }
   },
   "outputs": [
    {
     "name": "stdout",
     "output_type": "stream",
     "text": [
      "[Parameter containing:\n",
      "tensor([[2.0000]], requires_grad=True), Parameter containing:\n",
      "tensor([0.1000], requires_grad=True)]\n"
     ]
    }
   ],
   "source": [
    "w = list(model.parameters())\n",
    "print(w)"
   ]
  },
  {
   "cell_type": "code",
   "execution_count": 26,
   "metadata": {
    "ExecuteTime": {
     "end_time": "2018-10-02T11:53:23.377274Z",
     "start_time": "2018-10-02T11:53:23.361316Z"
    }
   },
   "outputs": [
    {
     "data": {
      "text/plain": [
       "tensor([20.1000], grad_fn=<ThAddBackward>)"
      ]
     },
     "execution_count": 26,
     "metadata": {},
     "output_type": "execute_result"
    }
   ],
   "source": [
    "model.predict(torch.Tensor([10.0]))"
   ]
  },
  {
   "cell_type": "markdown",
   "metadata": {},
   "source": [
    "## TODO - Simple Linear Regression"
   ]
  },
  {
   "cell_type": "code",
   "execution_count": 29,
   "metadata": {
    "ExecuteTime": {
     "end_time": "2018-10-02T11:54:11.079642Z",
     "start_time": "2018-10-02T11:54:10.980061Z"
    }
   },
   "outputs": [
    {
     "data": {
      "image/png": "[encoded data removed]",
      "text/plain": [
       "<Figure size 432x288 with 1 Axes>"
      ]
     },
     "metadata": {},
     "output_type": "display_data"
    }
   ],
   "source": [
    "%matplotlib inline\n",
    "from sklearn.datasets import make_regression\n",
    "from sklearn.linear_model import LinearRegression\n",
    "from sklearn.metrics import mean_squared_error, r2_score\n",
    "from sklearn.metrics import roc_auc_score\n",
    "\n",
    "import numpy as np\n",
    "import matplotlib.pyplot as plt\n",
    "import random\n",
    "\n",
    "seed = 777\n",
    "np.random.seed(seed)\n",
    "\n",
    "# generate regression dataset\n",
    "X, y = make_regression(n_samples=300, n_features=1, noise=30.0, random_state=seed)\n",
    "\n",
    "X_train = X[:200]\n",
    "X_test = X[200:]\n",
    "y_train = y[:200]\n",
    "y_test = y[200:]\n",
    "\n",
    "\n",
    "# plot regression dataset\n",
    "\n",
    "plt.scatter(X_train,y_train, c=\"r\")\n",
    "plt.scatter(X_test,y_test, c=\"b\")\n",
    "plt.legend([\"train\", \"test\"])\n",
    "plt.show()"
   ]
  },
  {
   "cell_type": "code",
   "execution_count": 17,
   "metadata": {},
   "outputs": [
    {
     "name": "stdout",
     "output_type": "stream",
     "text": [
      "Mean Squared Error : 872.5445482700914\n",
      "y = 39.1679X + -1.5085\n",
      "\n",
      "Mean Squared Error : 820.7126317168555\n",
      "R^2 : 0.6436611039385312\n"
     ]
    },
    {
     "data": {
      "image/png": "[encoded data removed]",
      "text/plain": [
       "<Figure size 432x288 with 1 Axes>"
      ]
     },
     "metadata": {},
     "output_type": "display_data"
    }
   ],
   "source": [
    "model = LinearRegression()\n",
    "model.fit(X_train, y_train)\n",
    "y_pred = model.predict(X_train)\n",
    "mse = mean_squared_error(y_train, y_pred)\n",
    "print(\"Mean Squared Error :\",mse)\n",
    "print(\"y = %.4fX + %.4f\"%(float(model.coef_[0]),float(model.intercept_)))\n",
    "\n",
    "y_pred = model.predict(X_test)\n",
    "mse = mean_squared_error(y_test, y_pred)\n",
    "r_square = r2_score(y_test, y_pred)\n",
    "print()\n",
    "print(\"Mean Squared Error :\",mse)\n",
    "print(\"R^2 :\",r_square)\n",
    "\n",
    "plt.scatter(X_test, y_test, c=\"b\")\n",
    "plt.plot(X_test, y_pred, c=\"r\", linewidth=3)\n",
    "plt.legend([\"reg\",\"test\"])\n",
    "plt.show()"
   ]
  },
  {
   "cell_type": "code",
   "execution_count": 18,
   "metadata": {},
   "outputs": [
    {
     "name": "stdout",
     "output_type": "stream",
     "text": [
      "200\n",
      "100\n"
     ]
    }
   ],
   "source": [
    "print(len(X_train))\n",
    "print(len(X_test))"
   ]
  },
  {
   "cell_type": "code",
   "execution_count": 19,
   "metadata": {},
   "outputs": [],
   "source": [
    "# YOUR CODE HERE\n",
    "\n",
    "\n",
    "\n",
    "\n",
    "\n"
   ]
  },
  {
   "cell_type": "code",
   "execution_count": 21,
   "metadata": {},
   "outputs": [
    {
     "name": "stdout",
     "output_type": "stream",
     "text": [
      "y = 39.1679X + -1.5085\n"
     ]
    }
   ],
   "source": [
    "w = list(model.parameters())\n",
    "print(\"y = %.4fX + %.4f\"%(w[0].item(), w[1].item()))"
   ]
  },
  {
   "cell_type": "code",
   "execution_count": 22,
   "metadata": {},
   "outputs": [
    {
     "name": "stdout",
     "output_type": "stream",
     "text": [
      "Mean Squared Error : 820.7126222618163\n",
      "R^2 : 0.6436611080437418\n"
     ]
    }
   ],
   "source": [
    "y_pred = model.predict(torch.Tensor(X_test)).detach().numpy()\n",
    "mse = mean_squared_error(y_test, y_pred)\n",
    "r_square = r2_score(y_test, y_pred)\n",
    "\n",
    "print(\"Mean Squared Error :\",mse)\n",
    "print(\"R^2 :\",r_square)"
   ]
  },
  {
   "cell_type": "markdown",
   "metadata": {},
   "source": [
    "## Practice - Multiple Linear Regression\n",
    "\n",
    "### 보스턴 주택 가격 데이터\n",
    "\n",
    "1978 미국 보스턴의 주택 가격 데이터이다.  `load_boston()` 명령으로 로드하며 다음과 같이 구성되어 있다.\n",
    "\n",
    "* 타겟 데이터\n",
    " * `MEDV`: 506 타운의 주택 가격 중앙값 (단위 1,000 달러)<br><br>\n",
    " \n",
    "* 특징 데이터 \n",
    " * `CRIM`: 범죄율\n",
    " * `ZN`: 25,000 평방피트를 초과 거주지역 비율\n",
    " * `INDUS`: 비소매상업지역 면적 비율\n",
    " * `CHAS`: 찰스강의 경계에 위치한 경우는 1, 아니면 0\n",
    " * `NOX`: 일산화질소 농도 \n",
    " * `RM`: 주택당 방 수\n",
    " * `AGE`: 1940년 이전에 건축된 주택의 비율\n",
    " * `DIS`: 직업센터의 거리\n",
    " * `RAD`: 방사형 고속도로까지의 거리\n",
    " * `TAX`:\t재산세율\n",
    " * `PTRATIO`: 학생/교사 비율\n",
    " * `B`: 인구 중 흑인 비율\n",
    " * `LSTAT`: 인구 중 하위 계층 비율\n",
    " \n",
    " \n",
    " \n",
    " \n"
   ]
  },
  {
   "cell_type": "code",
   "execution_count": 23,
   "metadata": {},
   "outputs": [
    {
     "name": "stdout",
     "output_type": "stream",
     "text": [
      "Boston House Prices dataset\n",
      "===========================\n",
      "\n",
      "Notes\n",
      "------\n",
      "Data Set Characteristics:  \n",
      "\n",
      "    :Number of Instances: 506 \n",
      "\n",
      "    :Number of Attributes: 13 numeric/categorical predictive\n",
      "    \n",
      "    :Median Value (attribute 14) is usually the target\n",
      "\n",
      "    :Attribute Information (in order):\n",
      "        - CRIM     per capita crime rate by town\n",
      "        - ZN       proportion of residential land zoned for lots over 25,000 sq.ft.\n",
      "        - INDUS    proportion of non-retail business acres per town\n",
      "        - CHAS     Charles River dummy variable (= 1 if tract bounds river; 0 otherwise)\n",
      "        - NOX      nitric oxides concentration (parts per 10 million)\n",
      "        - RM       average number of rooms per dwelling\n",
      "        - AGE      proportion of owner-occupied units built prior to 1940\n",
      "        - DIS      weighted distances to five Boston employment centres\n",
      "        - RAD      index of accessibility to radial highways\n",
      "        - TAX      full-value property-tax rate per $10,000\n",
      "        - PTRATIO  pupil-teacher ratio by town\n",
      "        - B        1000(Bk - 0.63)^2 where Bk is the proportion of blacks by town\n",
      "        - LSTAT    % lower status of the population\n",
      "        - MEDV     Median value of owner-occupied homes in $1000's\n",
      "\n",
      "    :Missing Attribute Values: None\n",
      "\n",
      "    :Creator: Harrison, D. and Rubinfeld, D.L.\n",
      "\n",
      "This is a copy of UCI ML housing dataset.\n",
      "http://archive.ics.uci.edu/ml/datasets/Housing\n",
      "\n",
      "\n",
      "This dataset was taken from the StatLib library which is maintained at Carnegie Mellon University.\n",
      "\n",
      "The Boston house-price data of Harrison, D. and Rubinfeld, D.L. 'Hedonic\n",
      "prices and the demand for clean air', J. Environ. Economics & Management,\n",
      "vol.5, 81-102, 1978.   Used in Belsley, Kuh & Welsch, 'Regression diagnostics\n",
      "...', Wiley, 1980.   N.B. Various transformations are used in the table on\n",
      "pages 244-261 of the latter.\n",
      "\n",
      "The Boston house-price data has been used in many machine learning papers that address regression\n",
      "problems.   \n",
      "     \n",
      "**References**\n",
      "\n",
      "   - Belsley, Kuh & Welsch, 'Regression diagnostics: Identifying Influential Data and Sources of Collinearity', Wiley, 1980. 244-261.\n",
      "   - Quinlan,R. (1993). Combining Instance-Based and Model-Based Learning. In Proceedings on the Tenth International Conference of Machine Learning, 236-243, University of Massachusetts, Amherst. Morgan Kaufmann.\n",
      "   - many more! (see http://archive.ics.uci.edu/ml/datasets/Housing)\n",
      "\n"
     ]
    }
   ],
   "source": [
    "from sklearn.datasets import load_boston\n",
    "boston = load_boston()\n",
    "print(boston.DESCR)"
   ]
  },
  {
   "cell_type": "code",
   "execution_count": 24,
   "metadata": {},
   "outputs": [
    {
     "data": {
      "text/html": [
       "<div>\n",
       "<style scoped>\n",
       "    .dataframe tbody tr th:only-of-type {\n",
       "        vertical-align: middle;\n",
       "    }\n",
       "\n",
       "    .dataframe tbody tr th {\n",
       "        vertical-align: top;\n",
       "    }\n",
       "\n",
       "    .dataframe thead th {\n",
       "        text-align: right;\n",
       "    }\n",
       "</style>\n",
       "<table border=\"1\" class=\"dataframe\">\n",
       "  <thead>\n",
       "    <tr style=\"text-align: right;\">\n",
       "      <th></th>\n",
       "      <th>CRIM</th>\n",
       "      <th>ZN</th>\n",
       "      <th>INDUS</th>\n",
       "      <th>CHAS</th>\n",
       "      <th>NOX</th>\n",
       "      <th>RM</th>\n",
       "      <th>AGE</th>\n",
       "      <th>DIS</th>\n",
       "      <th>RAD</th>\n",
       "      <th>TAX</th>\n",
       "      <th>PTRATIO</th>\n",
       "      <th>B</th>\n",
       "      <th>LSTAT</th>\n",
       "      <th>MEDV</th>\n",
       "    </tr>\n",
       "  </thead>\n",
       "  <tbody>\n",
       "    <tr>\n",
       "      <th>501</th>\n",
       "      <td>0.06263</td>\n",
       "      <td>0.0</td>\n",
       "      <td>11.93</td>\n",
       "      <td>0.0</td>\n",
       "      <td>0.573</td>\n",
       "      <td>6.593</td>\n",
       "      <td>69.1</td>\n",
       "      <td>2.4786</td>\n",
       "      <td>1.0</td>\n",
       "      <td>273.0</td>\n",
       "      <td>21.0</td>\n",
       "      <td>391.99</td>\n",
       "      <td>9.67</td>\n",
       "      <td>22.4</td>\n",
       "    </tr>\n",
       "    <tr>\n",
       "      <th>502</th>\n",
       "      <td>0.04527</td>\n",
       "      <td>0.0</td>\n",
       "      <td>11.93</td>\n",
       "      <td>0.0</td>\n",
       "      <td>0.573</td>\n",
       "      <td>6.120</td>\n",
       "      <td>76.7</td>\n",
       "      <td>2.2875</td>\n",
       "      <td>1.0</td>\n",
       "      <td>273.0</td>\n",
       "      <td>21.0</td>\n",
       "      <td>396.90</td>\n",
       "      <td>9.08</td>\n",
       "      <td>20.6</td>\n",
       "    </tr>\n",
       "    <tr>\n",
       "      <th>503</th>\n",
       "      <td>0.06076</td>\n",
       "      <td>0.0</td>\n",
       "      <td>11.93</td>\n",
       "      <td>0.0</td>\n",
       "      <td>0.573</td>\n",
       "      <td>6.976</td>\n",
       "      <td>91.0</td>\n",
       "      <td>2.1675</td>\n",
       "      <td>1.0</td>\n",
       "      <td>273.0</td>\n",
       "      <td>21.0</td>\n",
       "      <td>396.90</td>\n",
       "      <td>5.64</td>\n",
       "      <td>23.9</td>\n",
       "    </tr>\n",
       "    <tr>\n",
       "      <th>504</th>\n",
       "      <td>0.10959</td>\n",
       "      <td>0.0</td>\n",
       "      <td>11.93</td>\n",
       "      <td>0.0</td>\n",
       "      <td>0.573</td>\n",
       "      <td>6.794</td>\n",
       "      <td>89.3</td>\n",
       "      <td>2.3889</td>\n",
       "      <td>1.0</td>\n",
       "      <td>273.0</td>\n",
       "      <td>21.0</td>\n",
       "      <td>393.45</td>\n",
       "      <td>6.48</td>\n",
       "      <td>22.0</td>\n",
       "    </tr>\n",
       "    <tr>\n",
       "      <th>505</th>\n",
       "      <td>0.04741</td>\n",
       "      <td>0.0</td>\n",
       "      <td>11.93</td>\n",
       "      <td>0.0</td>\n",
       "      <td>0.573</td>\n",
       "      <td>6.030</td>\n",
       "      <td>80.8</td>\n",
       "      <td>2.5050</td>\n",
       "      <td>1.0</td>\n",
       "      <td>273.0</td>\n",
       "      <td>21.0</td>\n",
       "      <td>396.90</td>\n",
       "      <td>7.88</td>\n",
       "      <td>11.9</td>\n",
       "    </tr>\n",
       "  </tbody>\n",
       "</table>\n",
       "</div>"
      ],
      "text/plain": [
       "        CRIM   ZN  INDUS  CHAS    NOX     RM   AGE     DIS  RAD    TAX  \\\n",
       "501  0.06263  0.0  11.93   0.0  0.573  6.593  69.1  2.4786  1.0  273.0   \n",
       "502  0.04527  0.0  11.93   0.0  0.573  6.120  76.7  2.2875  1.0  273.0   \n",
       "503  0.06076  0.0  11.93   0.0  0.573  6.976  91.0  2.1675  1.0  273.0   \n",
       "504  0.10959  0.0  11.93   0.0  0.573  6.794  89.3  2.3889  1.0  273.0   \n",
       "505  0.04741  0.0  11.93   0.0  0.573  6.030  80.8  2.5050  1.0  273.0   \n",
       "\n",
       "     PTRATIO       B  LSTAT  MEDV  \n",
       "501     21.0  391.99   9.67  22.4  \n",
       "502     21.0  396.90   9.08  20.6  \n",
       "503     21.0  396.90   5.64  23.9  \n",
       "504     21.0  393.45   6.48  22.0  \n",
       "505     21.0  396.90   7.88  11.9  "
      ]
     },
     "execution_count": 24,
     "metadata": {},
     "output_type": "execute_result"
    }
   ],
   "source": [
    "import pandas as pd\n",
    "\n",
    "dfX = pd.DataFrame(boston.data, columns=boston.feature_names)\n",
    "dfy = pd.DataFrame(boston.target, columns=[\"MEDV\"])\n",
    "df = pd.concat([dfX, dfy], axis=1)\n",
    "df.tail()"
   ]
  },
  {
   "cell_type": "code",
   "execution_count": 25,
   "metadata": {},
   "outputs": [
    {
     "data": {
      "text/html": [
       "<div>\n",
       "<style scoped>\n",
       "    .dataframe tbody tr th:only-of-type {\n",
       "        vertical-align: middle;\n",
       "    }\n",
       "\n",
       "    .dataframe tbody tr th {\n",
       "        vertical-align: top;\n",
       "    }\n",
       "\n",
       "    .dataframe thead th {\n",
       "        text-align: right;\n",
       "    }\n",
       "</style>\n",
       "<table border=\"1\" class=\"dataframe\">\n",
       "  <thead>\n",
       "    <tr style=\"text-align: right;\">\n",
       "      <th></th>\n",
       "      <th>CRIM</th>\n",
       "      <th>ZN</th>\n",
       "      <th>INDUS</th>\n",
       "      <th>CHAS</th>\n",
       "      <th>NOX</th>\n",
       "      <th>RM</th>\n",
       "      <th>AGE</th>\n",
       "      <th>DIS</th>\n",
       "      <th>RAD</th>\n",
       "      <th>TAX</th>\n",
       "      <th>PTRATIO</th>\n",
       "      <th>B</th>\n",
       "      <th>LSTAT</th>\n",
       "      <th>MEDV</th>\n",
       "    </tr>\n",
       "  </thead>\n",
       "  <tbody>\n",
       "    <tr>\n",
       "      <th>count</th>\n",
       "      <td>506.000000</td>\n",
       "      <td>506.000000</td>\n",
       "      <td>506.000000</td>\n",
       "      <td>506.000000</td>\n",
       "      <td>506.000000</td>\n",
       "      <td>506.000000</td>\n",
       "      <td>506.000000</td>\n",
       "      <td>506.000000</td>\n",
       "      <td>506.000000</td>\n",
       "      <td>506.000000</td>\n",
       "      <td>506.000000</td>\n",
       "      <td>506.000000</td>\n",
       "      <td>506.000000</td>\n",
       "      <td>506.000000</td>\n",
       "    </tr>\n",
       "    <tr>\n",
       "      <th>mean</th>\n",
       "      <td>3.593761</td>\n",
       "      <td>11.363636</td>\n",
       "      <td>11.136779</td>\n",
       "      <td>0.069170</td>\n",
       "      <td>0.554695</td>\n",
       "      <td>6.284634</td>\n",
       "      <td>68.574901</td>\n",
       "      <td>3.795043</td>\n",
       "      <td>9.549407</td>\n",
       "      <td>408.237154</td>\n",
       "      <td>18.455534</td>\n",
       "      <td>356.674032</td>\n",
       "      <td>12.653063</td>\n",
       "      <td>22.532806</td>\n",
       "    </tr>\n",
       "    <tr>\n",
       "      <th>std</th>\n",
       "      <td>8.596783</td>\n",
       "      <td>23.322453</td>\n",
       "      <td>6.860353</td>\n",
       "      <td>0.253994</td>\n",
       "      <td>0.115878</td>\n",
       "      <td>0.702617</td>\n",
       "      <td>28.148861</td>\n",
       "      <td>2.105710</td>\n",
       "      <td>8.707259</td>\n",
       "      <td>168.537116</td>\n",
       "      <td>2.164946</td>\n",
       "      <td>91.294864</td>\n",
       "      <td>7.141062</td>\n",
       "      <td>9.197104</td>\n",
       "    </tr>\n",
       "    <tr>\n",
       "      <th>min</th>\n",
       "      <td>0.006320</td>\n",
       "      <td>0.000000</td>\n",
       "      <td>0.460000</td>\n",
       "      <td>0.000000</td>\n",
       "      <td>0.385000</td>\n",
       "      <td>3.561000</td>\n",
       "      <td>2.900000</td>\n",
       "      <td>1.129600</td>\n",
       "      <td>1.000000</td>\n",
       "      <td>187.000000</td>\n",
       "      <td>12.600000</td>\n",
       "      <td>0.320000</td>\n",
       "      <td>1.730000</td>\n",
       "      <td>5.000000</td>\n",
       "    </tr>\n",
       "    <tr>\n",
       "      <th>25%</th>\n",
       "      <td>0.082045</td>\n",
       "      <td>0.000000</td>\n",
       "      <td>5.190000</td>\n",
       "      <td>0.000000</td>\n",
       "      <td>0.449000</td>\n",
       "      <td>5.885500</td>\n",
       "      <td>45.025000</td>\n",
       "      <td>2.100175</td>\n",
       "      <td>4.000000</td>\n",
       "      <td>279.000000</td>\n",
       "      <td>17.400000</td>\n",
       "      <td>375.377500</td>\n",
       "      <td>6.950000</td>\n",
       "      <td>17.025000</td>\n",
       "    </tr>\n",
       "    <tr>\n",
       "      <th>50%</th>\n",
       "      <td>0.256510</td>\n",
       "      <td>0.000000</td>\n",
       "      <td>9.690000</td>\n",
       "      <td>0.000000</td>\n",
       "      <td>0.538000</td>\n",
       "      <td>6.208500</td>\n",
       "      <td>77.500000</td>\n",
       "      <td>3.207450</td>\n",
       "      <td>5.000000</td>\n",
       "      <td>330.000000</td>\n",
       "      <td>19.050000</td>\n",
       "      <td>391.440000</td>\n",
       "      <td>11.360000</td>\n",
       "      <td>21.200000</td>\n",
       "    </tr>\n",
       "    <tr>\n",
       "      <th>75%</th>\n",
       "      <td>3.647423</td>\n",
       "      <td>12.500000</td>\n",
       "      <td>18.100000</td>\n",
       "      <td>0.000000</td>\n",
       "      <td>0.624000</td>\n",
       "      <td>6.623500</td>\n",
       "      <td>94.075000</td>\n",
       "      <td>5.188425</td>\n",
       "      <td>24.000000</td>\n",
       "      <td>666.000000</td>\n",
       "      <td>20.200000</td>\n",
       "      <td>396.225000</td>\n",
       "      <td>16.955000</td>\n",
       "      <td>25.000000</td>\n",
       "    </tr>\n",
       "    <tr>\n",
       "      <th>max</th>\n",
       "      <td>88.976200</td>\n",
       "      <td>100.000000</td>\n",
       "      <td>27.740000</td>\n",
       "      <td>1.000000</td>\n",
       "      <td>0.871000</td>\n",
       "      <td>8.780000</td>\n",
       "      <td>100.000000</td>\n",
       "      <td>12.126500</td>\n",
       "      <td>24.000000</td>\n",
       "      <td>711.000000</td>\n",
       "      <td>22.000000</td>\n",
       "      <td>396.900000</td>\n",
       "      <td>37.970000</td>\n",
       "      <td>50.000000</td>\n",
       "    </tr>\n",
       "  </tbody>\n",
       "</table>\n",
       "</div>"
      ],
      "text/plain": [
       "             CRIM          ZN       INDUS        CHAS         NOX          RM  \\\n",
       "count  506.000000  506.000000  506.000000  506.000000  506.000000  506.000000   \n",
       "mean     3.593761   11.363636   11.136779    0.069170    0.554695    6.284634   \n",
       "std      8.596783   23.322453    6.860353    0.253994    0.115878    0.702617   \n",
       "min      0.006320    0.000000    0.460000    0.000000    0.385000    3.561000   \n",
       "25%      0.082045    0.000000    5.190000    0.000000    0.449000    5.885500   \n",
       "50%      0.256510    0.000000    9.690000    0.000000    0.538000    6.208500   \n",
       "75%      3.647423   12.500000   18.100000    0.000000    0.624000    6.623500   \n",
       "max     88.976200  100.000000   27.740000    1.000000    0.871000    8.780000   \n",
       "\n",
       "              AGE         DIS         RAD         TAX     PTRATIO           B  \\\n",
       "count  506.000000  506.000000  506.000000  506.000000  506.000000  506.000000   \n",
       "mean    68.574901    3.795043    9.549407  408.237154   18.455534  356.674032   \n",
       "std     28.148861    2.105710    8.707259  168.537116    2.164946   91.294864   \n",
       "min      2.900000    1.129600    1.000000  187.000000   12.600000    0.320000   \n",
       "25%     45.025000    2.100175    4.000000  279.000000   17.400000  375.377500   \n",
       "50%     77.500000    3.207450    5.000000  330.000000   19.050000  391.440000   \n",
       "75%     94.075000    5.188425   24.000000  666.000000   20.200000  396.225000   \n",
       "max    100.000000   12.126500   24.000000  711.000000   22.000000  396.900000   \n",
       "\n",
       "            LSTAT        MEDV  \n",
       "count  506.000000  506.000000  \n",
       "mean    12.653063   22.532806  \n",
       "std      7.141062    9.197104  \n",
       "min      1.730000    5.000000  \n",
       "25%      6.950000   17.025000  \n",
       "50%     11.360000   21.200000  \n",
       "75%     16.955000   25.000000  \n",
       "max     37.970000   50.000000  "
      ]
     },
     "execution_count": 25,
     "metadata": {},
     "output_type": "execute_result"
    }
   ],
   "source": [
    "df.describe()"
   ]
  },
  {
   "cell_type": "code",
   "execution_count": 26,
   "metadata": {},
   "outputs": [
    {
     "name": "stdout",
     "output_type": "stream",
     "text": [
      "354\n",
      "152\n"
     ]
    }
   ],
   "source": [
    "from sklearn.model_selection import train_test_split\n",
    "X_train, X_test, y_train, y_test = train_test_split(boston.data, boston.target, test_size=0.3, random_state=777)\n",
    "print(len(y_train))\n",
    "print(len(y_test))"
   ]
  },
  {
   "cell_type": "code",
   "execution_count": 27,
   "metadata": {},
   "outputs": [
    {
     "name": "stdout",
     "output_type": "stream",
     "text": [
      "Mean Squared Error : 21.025226779107708\n",
      "\n",
      "Mean Squared Error : 25.357256011214208\n",
      "R^2 : 0.6999392625722696\n"
     ]
    }
   ],
   "source": [
    "model = LinearRegression()\n",
    "model.fit(X_train, y_train)\n",
    "y_pred = model.predict(X_train)\n",
    "mse = mean_squared_error(y_train, y_pred)\n",
    "print(\"Mean Squared Error :\",mse)\n",
    "\n",
    "y_pred = model.predict(X_test)\n",
    "mse = mean_squared_error(y_test, y_pred)\n",
    "r_square = r2_score(y_test, y_pred)\n",
    "print()\n",
    "print(\"Mean Squared Error :\",mse)\n",
    "print(\"R^2 :\",r_square)"
   ]
  },
  {
   "cell_type": "code",
   "execution_count": 28,
   "metadata": {},
   "outputs": [],
   "source": [
    "from torch.utils.data import Dataset\n",
    "from torch.utils.data import DataLoader\n",
    "\n",
    "class makeData(Dataset):\n",
    "    def __init__(self, X_data, y_data):\n",
    "        self.X_data = X_data\n",
    "        self.y_data = y_data\n",
    "        \n",
    "    def __getitem__(self, index):\n",
    "        return (self.X_data[index], self.y_data[index])\n",
    "    \n",
    "    def __len__(self):\n",
    "        return len(self.y_data)\n",
    "\n",
    "train_data = makeData(X_train, y_train)\n",
    "test_data = makeData(X_test, y_test)"
   ]
  },
  {
   "cell_type": "code",
   "execution_count": 29,
   "metadata": {},
   "outputs": [],
   "source": [
    "class MultipleLinearRegression(nn.Module):\n",
    "    def __init__(self, feature_size):\n",
    "        super(MultipleLinearRegression, self).__init__()\n",
    "        self.Layer = nn.Linear(feature_size, 1)\n",
    "\n",
    "    def forward(self, inputs):\n",
    "        x = self.Layer(inputs)\n",
    "        return x.squeeze(1)\n",
    "    \n",
    "    def predict(self, test_input):\n",
    "        x = self.Layer(test_input)\n",
    "        return x"
   ]
  },
  {
   "cell_type": "code",
   "execution_count": 30,
   "metadata": {},
   "outputs": [
    {
     "name": "stdout",
     "output_type": "stream",
     "text": [
      "tensor(6274.5742)\n",
      "tensor(44.0246)\n",
      "tensor(33.4632)\n",
      "tensor(17.9946)\n",
      "tensor(26.1190)\n",
      "tensor(36.1893)\n",
      "tensor(14.8336)\n",
      "tensor(23.1527)\n",
      "tensor(40.8293)\n",
      "tensor(36.7753)\n"
     ]
    }
   ],
   "source": [
    "EPOCHS = 2500\n",
    "BATCH_SIZE = 100\n",
    "FEATURE_SIZE = len(boston.data[0])\n",
    "\n",
    "model = MultipleLinearRegression(FEATURE_SIZE)\n",
    "criterion = nn.MSELoss()\n",
    "\n",
    "# momentum 추가 속도 및 정확도 비교! - 링크 참고\n",
    "optimizer = optim.Adam(model.parameters(), lr=0.01)\n",
    "\n",
    "train_batch = DataLoader(dataset=train_data, batch_size=BATCH_SIZE, shuffle=True)\n",
    "for epoch in range(EPOCHS):\n",
    "    for X_batch, y_batch in train_batch:\n",
    "        inputs = torch.Tensor(X_batch.float())\n",
    "        targets = torch.Tensor(y_batch.float())\n",
    "        model.zero_grad()\n",
    "        y_pred = model(inputs)\n",
    "        loss = criterion(y_pred, targets)\n",
    "        loss.backward()\n",
    "        optimizer.step()\n",
    "    \n",
    "    if epoch % 250 == 0:\n",
    "        print(loss)"
   ]
  },
  {
   "cell_type": "code",
   "execution_count": 31,
   "metadata": {},
   "outputs": [
    {
     "name": "stdout",
     "output_type": "stream",
     "text": [
      "Mean Squared Error : 23.282666521125282\n",
      "R^2 : 0.7244885612811127\n"
     ]
    }
   ],
   "source": [
    "y_pred = model.predict(torch.Tensor(X_test)).detach().numpy()\n",
    "mse = mean_squared_error(y_test, y_pred)\n",
    "r_square = r2_score(y_test, y_pred)\n",
    "\n",
    "print(\"Mean Squared Error :\",mse)\n",
    "print(\"R^2 :\",r_square)"
   ]
  }
 ],
 "metadata": {
  "kernelspec": {
   "display_name": "Python 3",
   "language": "python",
   "name": "python3"
  },
  "language_info": {
   "codemirror_mode": {
    "name": "ipython",
    "version": 3
   },
   "file_extension": ".py",
   "mimetype": "text/x-python",
   "name": "python",
   "nbconvert_exporter": "python",
   "pygments_lexer": "ipython3",
   "version": "3.6.5"
  },
  "latex_envs": {
   "LaTeX_envs_menu_present": true,
   "autoclose": false,
   "autocomplete": true,
   "bibliofile": "biblio.bib",
   "cite_by": "apalike",
   "current_citInitial": 1,
   "eqLabelWithNumbers": true,
   "eqNumInitial": 1,
   "hotkeys": {
    "equation": "Ctrl-E",
    "itemize": "Ctrl-I"
   },
   "labels_anchors": false,
   "latex_user_defs": false,
   "report_style_numbering": false,
   "user_envs_cfg": false
  },
  "toc": {
   "base_numbering": 1,
   "nav_menu": {},
   "number_sections": true,
   "sideBar": true,
   "skip_h1_title": false,
   "title_cell": "Table of Contents",
   "title_sidebar": "Contents",
   "toc_cell": false,
   "toc_position": {},
   "toc_section_display": true,
   "toc_window_display": false
  },
  "varInspector": {
   "cols": {
    "lenName": 16,
    "lenType": 16,
    "lenVar": 40
   },
   "kernels_config": {
    "python": {
     "delete_cmd_postfix": "",
     "delete_cmd_prefix": "del ",
     "library": "var_list.py",
     "varRefreshCmd": "print(var_dic_list())"
    },
    "r": {
     "delete_cmd_postfix": ") ",
     "delete_cmd_prefix": "rm(",
     "library": "var_list.r",
     "varRefreshCmd": "cat(var_dic_list()) "
    }
   },
   "types_to_exclude": [
    "module",
    "function",
    "builtin_function_or_method",
    "instance",
    "_Feature"
   ],
   "window_display": false
  }
 },
 "nbformat": 4,
 "nbformat_minor": 2
}
